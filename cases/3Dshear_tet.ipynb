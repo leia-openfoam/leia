{
 "cells": [
  {
   "cell_type": "markdown",
   "metadata": {},
   "source": [
    "# 3D shear of a sphere"
   ]
  },
  {
   "cell_type": "code",
   "execution_count": 1,
   "metadata": {},
   "outputs": [],
   "source": [
    "from advectionplot import *"
   ]
  },
  {
   "cell_type": "markdown",
   "metadata": {},
   "source": [
    "# Error definitions\n",
    "\n",
    "## Phase indicator (marker) - initial error\n",
    "\n",
    "#### Convergence rate for $\\frac{|V(t_0) - V_e|}{V_e}$,  $V(t_0) := \\sum_{c \\in C} \\alpha_c |\\Omega_c|$,  $V_e$ is the exact volume. \n",
    "\n",
    "**Note the exact volume is not read from system/fvSolution, sphere of $R=0.15$ is used here and needs to match system/fvSolution.**\n",
    "\n",
    "## Advection errors\n",
    "\n",
    "### Ev: volume conservation error \n",
    "\n",
    "### $$E_v(t)  = \\frac{\\left|\\sum_{c \\in C}\\alpha_c(t)|\\Omega_c| - \\sum_{c \\in C} \\alpha_c(t_0)|\\Omega_c|\\right|}{\\left|\\sum_{c \\in C} \\alpha_c(t_0)|\\Omega_c|\\right|}$$\n",
    "\n",
    "###  Eg: L1 Geomeric error \n",
    "\n",
    "### $$E_g = \\sum_{c \\in C} |\\Omega_c||\\alpha_c(t_e) - \\alpha_c(t_0)|$$\n",
    "\n",
    "### Eb: numerical boundedness \n",
    "\n",
    "**The method is unconditionally numerically stable (bounded).**"
   ]
  },
  {
   "cell_type": "markdown",
   "metadata": {},
   "source": [
    "# Test case setup"
   ]
  },
  {
   "cell_type": "code",
   "execution_count": 2,
   "metadata": {},
   "outputs": [],
   "source": [
    "R = 0.15 # Radius\n",
    "V_e = 4*R**3 * pi / 3. # Exact volume"
   ]
  },
  {
   "cell_type": "markdown",
   "metadata": {},
   "source": [
    "# Tetrahedral mesh\n",
    "\n",
    "## Phase indicator (marker) - initial error"
   ]
  },
  {
   "cell_type": "code",
   "execution_count": null,
   "metadata": {},
   "outputs": [],
   "source": [
    "plot_marker_error(\"3Dshear_tet_000\", exact_volume=V_e)"
   ]
  },
  {
   "cell_type": "markdown",
   "metadata": {},
   "source": [
    "## Advection errors"
   ]
  },
  {
   "cell_type": "code",
   "execution_count": null,
   "metadata": {
    "scrolled": false
   },
   "outputs": [],
   "source": [
    "plot_advection_errors(\"3Dshear_tet_000\", radius=R)"
   ]
  }
 ],
 "metadata": {
  "kernelspec": {
   "display_name": "Python 3",
   "language": "python",
   "name": "python3"
  },
  "language_info": {
   "codemirror_mode": {
    "name": "ipython",
    "version": 3
   },
   "file_extension": ".py",
   "mimetype": "text/x-python",
   "name": "python",
   "nbconvert_exporter": "python",
   "pygments_lexer": "ipython3",
   "version": "3.8.10"
  }
 },
 "nbformat": 4,
 "nbformat_minor": 5
}
