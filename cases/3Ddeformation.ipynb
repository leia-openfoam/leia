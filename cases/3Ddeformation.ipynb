{
 "cells": [
  {
   "cell_type": "markdown",
   "metadata": {},
   "source": [
    "# 3D deformation of a sphere"
   ]
  },
  {
   "cell_type": "code",
   "execution_count": 1,
   "metadata": {},
   "outputs": [],
   "source": [
    "from advectionplot import *"
   ]
  },
  {
   "cell_type": "markdown",
   "metadata": {},
   "source": [
    "# Error definitions\n",
    "\n",
    "## Phase indicator (marker) - initial error\n",
    "\n",
    "#### Convergence rate for $\\frac{|V(t_0) - V_e|}{V_e}$,  $V(t_0) := \\sum_{c \\in C} \\alpha_c |\\Omega_c|$,  $V_e$ is the exact volume. \n",
    "\n",
    "**Note the exact volume is not read from system/fvSolution, sphere of $R=0.15$ is used here and needs to match system/fvSolution.**\n",
    "\n",
    "## Advection errors\n",
    "\n",
    "### Ev: volume conservation error \n",
    "\n",
    "### $$E_v(t)  = \\frac{\\left|\\sum_{c \\in C}\\alpha_c(t)|\\Omega_c| - \\sum_{c \\in C} \\alpha_c(t_0)|\\Omega_c|\\right|}{\\left|\\sum_{c \\in C} \\alpha_c(t_0)|\\Omega_c|\\right|}$$\n",
    "\n",
    "###  Eg: L1 Geomeric error \n",
    "\n",
    "### $$E_g = \\sum_{c \\in C} |\\Omega_c||\\alpha_c(t_e) - \\alpha_c(t_0)|$$\n",
    "\n",
    "### Eb: numerical boundedness \n",
    "\n",
    "**The method is unconditionally numerically stable (bounded).**"
   ]
  },
  {
   "cell_type": "markdown",
   "metadata": {},
   "source": [
    "# Test case setup"
   ]
  },
  {
   "cell_type": "code",
   "execution_count": 2,
   "metadata": {},
   "outputs": [],
   "source": [
    "R = 0.15 # Radius\n",
    "V_e = 4*R**3 * pi / 3. # Exact volume\n",
    "study_pattern=\"3Ddeformation_narrowBand-off_0000[0-2]\""
   ]
  },
  {
   "cell_type": "markdown",
   "metadata": {},
   "source": [
    "# Equidistant mesh\n",
    "\n",
    "## Phase indicator (marker) - initial error"
   ]
  },
  {
   "cell_type": "code",
   "execution_count": 3,
   "metadata": {},
   "outputs": [
    {
     "ename": "TypeError",
     "evalue": "'NoneType' object is not subscriptable",
     "output_type": "error",
     "traceback": [
      "\u001b[0;31m---------------------------------------------------------------------------\u001b[0m",
      "\u001b[0;31mTypeError\u001b[0m                                 Traceback (most recent call last)",
      "Cell \u001b[0;32mIn [3], line 1\u001b[0m\n\u001b[0;32m----> 1\u001b[0m plot_marker_error(study_pattern, exact_volume\u001b[39m=\u001b[39;49mV_e)\n",
      "File \u001b[0;32m~/OpenFOAM/leia/cases/advectionplot.py:61\u001b[0m, in \u001b[0;36mplot_marker_error\u001b[0;34m(study_pattern, exact_volume, csv_filename)\u001b[0m\n\u001b[1;32m     56\u001b[0m \u001b[39mdef\u001b[39;00m \u001b[39mplot_marker_error\u001b[39m(study_pattern, exact_volume, csv_filename\u001b[39m=\u001b[39m\u001b[39m\"\u001b[39m\u001b[39mleiaSetFields.csv\u001b[39m\u001b[39m\"\u001b[39m):\n\u001b[1;32m     58\u001b[0m         marker_dframe \u001b[39m=\u001b[39m agglomerate_dframe(study_pattern, csv_filename,\n\u001b[1;32m     59\u001b[0m                                            dframe_name\u001b[39m=\u001b[39m\u001b[39m\"\u001b[39m\u001b[39mmarker\u001b[39m\u001b[39m\"\u001b[39m)\n\u001b[0;32m---> 61\u001b[0m         volume_error \u001b[39m=\u001b[39m \u001b[39mabs\u001b[39m(marker_dframe[\u001b[39m\"\u001b[39;49m\u001b[39mVOL_ALPHA_0\u001b[39;49m\u001b[39m\"\u001b[39;49m] \u001b[39m-\u001b[39m exact_volume) \u001b[39m/\u001b[39m exact_volume \n\u001b[1;32m     63\u001b[0m         fig, ax \u001b[39m=\u001b[39m plt\u001b[39m.\u001b[39msubplots()\n\u001b[1;32m     65\u001b[0m         ax\u001b[39m.\u001b[39mplot(marker_dframe[\u001b[39m\"\u001b[39m\u001b[39mH\u001b[39m\u001b[39m\"\u001b[39m], volume_error, \u001b[39m'\u001b[39m\u001b[39m-x\u001b[39m\u001b[39m'\u001b[39m, label\u001b[39m=\u001b[39m\u001b[39m\"\u001b[39m\u001b[39mMarker field\u001b[39m\u001b[39m\"\u001b[39m)\n",
      "\u001b[0;31mTypeError\u001b[0m: 'NoneType' object is not subscriptable"
     ]
    }
   ],
   "source": [
    "plot_marker_error(study_pattern, exact_volume=V_e)"
   ]
  },
  {
   "cell_type": "markdown",
   "metadata": {},
   "source": [
    "## Advection errors"
   ]
  },
  {
   "cell_type": "code",
   "execution_count": null,
   "metadata": {
    "scrolled": false
   },
   "outputs": [],
   "source": [
    "plot_advection_errors(study_pattern, radius=R)"
   ]
  },
  {
   "cell_type": "code",
   "execution_count": null,
   "id": "73e0930a",
   "metadata": {},
   "outputs": [],
   "source": [
    "plot_gradpsi_errors(study_pattern)"
   ]
  }
 ],
 "metadata": {
  "kernelspec": {
   "display_name": "Python 3.10.6 ('leia')",
   "language": "python",
   "name": "python3"
  },
  "language_info": {
   "codemirror_mode": {
    "name": "ipython",
    "version": 3
   },
   "file_extension": ".py",
   "mimetype": "text/x-python",
   "name": "python",
   "nbconvert_exporter": "python",
   "pygments_lexer": "ipython3",
   "version": "3.10.6"
  },
  "vscode": {
   "interpreter": {
    "hash": "beb0f509220adee5d215076528a0a26b5de27546fbf5fef5c56c5f336e38957a"
   }
  }
 },
 "nbformat": 4,
 "nbformat_minor": 5
}
